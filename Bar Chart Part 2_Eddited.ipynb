{
 "cells": [
  {
   "cell_type": "code",
   "execution_count": 44,
   "metadata": {},
   "outputs": [
    {
     "data": {
      "image/png": "[encoded data removed]",
      "text/plain": [
       "<Figure size 432x288 with 1 Axes>"
      ]
     },
     "metadata": {
      "needs_background": "light"
     },
     "output_type": "display_data"
    }
   ],
   "source": [
    "# %load https://raw.githubusercontent.com/AyemunHossain/Python-Data-Visualization/master/Barchat%20part%202.py\n",
    "#;==========================================\n",
    "#; Title:  Barchat part 2\n",
    "#; Author: @AyemunHossain\n",
    "#; Eddited by: Trang Vu\n",
    "#; Date: 7/17/20\n",
    "#;==========================================\n",
    "\n",
    "import numpy as np\n",
    "import matplotlib.pyplot as plt\n",
    "\n",
    "N = 5\n",
    "menMeans = (20, 35, 30, 35, 27)\n",
    "std_men = np.std(menMeans)\n",
    "womenMeans = (25, 32, 34, 20, 25)\n",
    "std_women = np.std(womenMeans)\n",
    "xt= ['G1', 'G2', 'G3', 'G4', 'G5']\n",
    "\n",
    "fig, ax = plt.subplots()\n",
    "ind = np.arange(N) # the x locations for the groups\n",
    "width = 0.3\n",
    "error_config = {'ecolor': '0.3'}\n",
    "\n",
    "plot1 = plt.bar(ind, menMeans, width,\n",
    "               alpha = 0.5, \n",
    "               color ='b',\n",
    "               yerr = std_men,\n",
    "               error_kw = error_config, \n",
    "               label = 'Men')\n",
    "plot2 = plt.bar(ind + width, womenMeans, width,\n",
    "               alpha = 0.5, \n",
    "               color ='r',\n",
    "               yerr = std_women,\n",
    "               error_kw = error_config, \n",
    "               label = 'Women')\n",
    "#fig = plt.figure()\n",
    "#ax = fig.add_axes([0.1,0.1,0.8,0.8])\n",
    "#ax.bar(xt, menMeans, width, color='b', alpha=0.3)\n",
    "#ax.bar(xt, womenMeans, width,bottom=menMeans, color='r')\n",
    "ax.set_ylabel('Scores')\n",
    "ax.set_title('Scores by group and gender')\n",
    "ax.legend(labels=['Men', 'Women'])\n",
    "\n",
    "plt.tight_layout()\n",
    "plt.show()"
   ]
  },
  {
   "cell_type": "code",
   "execution_count": null,
   "metadata": {},
   "outputs": [],
   "source": []
  }
 ],
 "metadata": {
  "kernelspec": {
   "display_name": "Python 3",
   "language": "python",
   "name": "python3"
  },
  "language_info": {
   "codemirror_mode": {
    "name": "ipython",
    "version": 3
   },
   "file_extension": ".py",
   "mimetype": "text/x-python",
   "name": "python",
   "nbconvert_exporter": "python",
   "pygments_lexer": "ipython3",
   "version": "3.7.6"
  }
 },
 "nbformat": 4,
 "nbformat_minor": 4
}
